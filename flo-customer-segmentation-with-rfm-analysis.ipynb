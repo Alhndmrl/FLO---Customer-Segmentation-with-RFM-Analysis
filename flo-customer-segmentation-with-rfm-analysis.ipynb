{
 "cells": [
  {
   "cell_type": "markdown",
   "id": "e91b4ecf",
   "metadata": {
    "papermill": {
     "duration": 0.010361,
     "end_time": "2022-11-01T14:13:56.803685",
     "exception": false,
     "start_time": "2022-11-01T14:13:56.793324",
     "status": "completed"
    },
    "tags": []
   },
   "source": [
    "# Customer Segmentation with RFM Analysis"
   ]
  },
  {
   "cell_type": "markdown",
   "id": "7fb5e69e",
   "metadata": {
    "papermill": {
     "duration": 0.008409,
     "end_time": "2022-11-01T14:13:56.821761",
     "exception": false,
     "start_time": "2022-11-01T14:13:56.813352",
     "status": "completed"
    },
    "tags": []
   },
   "source": [
    "## Business Problem"
   ]
  },
  {
   "cell_type": "markdown",
   "id": "2f04f1ef",
   "metadata": {
    "papermill": {
     "duration": 0.008466,
     "end_time": "2022-11-01T14:13:56.838996",
     "exception": false,
     "start_time": "2022-11-01T14:13:56.830530",
     "status": "completed"
    },
    "tags": []
   },
   "source": [
    "FLO, an online shoe store, wants to segment its customers and determine marketing strategies according to these segments. For this purpose, the behaviors of the customers will be defined and groups will be formed according to the clusters in these behaviors."
   ]
  },
  {
   "cell_type": "markdown",
   "id": "310a886d",
   "metadata": {
    "papermill": {
     "duration": 0.008585,
     "end_time": "2022-11-01T14:13:56.858750",
     "exception": false,
     "start_time": "2022-11-01T14:13:56.850165",
     "status": "completed"
    },
    "tags": []
   },
   "source": [
    "### Dataset Story\n"
   ]
  },
  {
   "cell_type": "markdown",
   "id": "d9c22c42",
   "metadata": {
    "papermill": {
     "duration": 0.008468,
     "end_time": "2022-11-01T14:13:56.876475",
     "exception": false,
     "start_time": "2022-11-01T14:13:56.868007",
     "status": "completed"
    },
    "tags": []
   },
   "source": [
    "The dataset consists of the information obtained from the past shopping behaviors of customers who made their last purchases from Flo as OmniChannel (both online and offline shopper) in the years 2020-2021."
   ]
  },
  {
   "cell_type": "markdown",
   "id": "8f734226",
   "metadata": {
    "papermill": {
     "duration": 0.0101,
     "end_time": "2022-11-01T14:13:56.896290",
     "exception": false,
     "start_time": "2022-11-01T14:13:56.886190",
     "status": "completed"
    },
    "tags": []
   },
   "source": [
    "**master_id :** Unique customer number\n",
    "\n",
    "**order_channel:** Which channel of the shopping platform is used (Android, ios, Desktop, Mobile)\n",
    "\n",
    "**last_order_channel:** The channel where the most recent purchase was made\n",
    "\n",
    "**first_order_date:** Date of the customer's first purchase\n",
    "\n",
    "**last_order_date:** Customer's last purchase date\n",
    "\n",
    "**last_order_date_online:** The date of the last purchase made by the customer on the online platform\n",
    "\n",
    "**last_order_date_offline:**The date of the last purchase made by the customer on the offline platform\n",
    "\n",
    "**order_num_total_ever_online:** The total number of purchases made by the customer on the online platform\n",
    "\n",
    "**order_num_total_ever_offline:** Total number of purchases made by the customer offline\n",
    "\n",
    "**customer_value_total_ever_offline:** Total fee paid by the customer for offline purchases\n",
    "\n",
    "**customer_value_total_ever_online:** The total fee paid by the customer for their online shopping\n",
    "\n",
    "**interested_in_categories_12:** List of categories the customer has shopped in the last 12 months\n",
    "\n",
    "\n"
   ]
  },
  {
   "cell_type": "code",
   "execution_count": 1,
   "id": "ee1e3d3b",
   "metadata": {
    "execution": {
     "iopub.execute_input": "2022-11-01T14:13:56.916956Z",
     "iopub.status.busy": "2022-11-01T14:13:56.915825Z",
     "iopub.status.idle": "2022-11-01T14:13:56.930508Z",
     "shell.execute_reply": "2022-11-01T14:13:56.929459Z"
    },
    "papermill": {
     "duration": 0.028201,
     "end_time": "2022-11-01T14:13:56.933239",
     "exception": false,
     "start_time": "2022-11-01T14:13:56.905038",
     "status": "completed"
    },
    "tags": []
   },
   "outputs": [],
   "source": [
    "#Necessary libraries are imported.\n",
    "import pandas as pd\n",
    "import datetime as dt\n",
    "pd.set_option('display.max_columns', None)\n",
    "pd.set_option('display.max_rows', None) # Can be uncommented to see all dataset in one print\n",
    "pd.set_option('display.float_format', lambda x: '%.f' % x)\n",
    "pd.set_option('display.width',125)"
   ]
  },
  {
   "cell_type": "code",
   "execution_count": 2,
   "id": "083044e9",
   "metadata": {
    "execution": {
     "iopub.execute_input": "2022-11-01T14:13:56.953724Z",
     "iopub.status.busy": "2022-11-01T14:13:56.953259Z",
     "iopub.status.idle": "2022-11-01T14:13:57.090878Z",
     "shell.execute_reply": "2022-11-01T14:13:57.089419Z"
    },
    "papermill": {
     "duration": 0.152707,
     "end_time": "2022-11-01T14:13:57.094918",
     "exception": false,
     "start_time": "2022-11-01T14:13:56.942211",
     "status": "completed"
    },
    "tags": []
   },
   "outputs": [],
   "source": [
    "df_ = pd.read_csv(\"../input/flo-data-20k/flo_data_20k.csv\")\n",
    "df = df_.copy()"
   ]
  },
  {
   "cell_type": "markdown",
   "id": "7d64018d",
   "metadata": {
    "papermill": {
     "duration": 0.008497,
     "end_time": "2022-11-01T14:13:57.112233",
     "exception": false,
     "start_time": "2022-11-01T14:13:57.103736",
     "status": "completed"
    },
    "tags": []
   },
   "source": [
    "## Data Overview"
   ]
  },
  {
   "cell_type": "code",
   "execution_count": 3,
   "id": "dc9974b3",
   "metadata": {
    "execution": {
     "iopub.execute_input": "2022-11-01T14:13:57.132078Z",
     "iopub.status.busy": "2022-11-01T14:13:57.131394Z",
     "iopub.status.idle": "2022-11-01T14:13:57.139295Z",
     "shell.execute_reply": "2022-11-01T14:13:57.138376Z"
    },
    "papermill": {
     "duration": 0.020805,
     "end_time": "2022-11-01T14:13:57.141874",
     "exception": false,
     "start_time": "2022-11-01T14:13:57.121069",
     "status": "completed"
    },
    "tags": []
   },
   "outputs": [
    {
     "data": {
      "text/plain": [
       "(19945, 12)"
      ]
     },
     "execution_count": 3,
     "metadata": {},
     "output_type": "execute_result"
    }
   ],
   "source": [
    "#Number of rows and columns of the dataset\n",
    "df.shape"
   ]
  },
  {
   "cell_type": "code",
   "execution_count": 4,
   "id": "cad21734",
   "metadata": {
    "execution": {
     "iopub.execute_input": "2022-11-01T14:13:57.162371Z",
     "iopub.status.busy": "2022-11-01T14:13:57.161652Z",
     "iopub.status.idle": "2022-11-01T14:13:57.195278Z",
     "shell.execute_reply": "2022-11-01T14:13:57.194346Z"
    },
    "papermill": {
     "duration": 0.046606,
     "end_time": "2022-11-01T14:13:57.197713",
     "exception": false,
     "start_time": "2022-11-01T14:13:57.151107",
     "status": "completed"
    },
    "tags": []
   },
   "outputs": [
    {
     "data": {
      "text/html": [
       "<div>\n",
       "<style scoped>\n",
       "    .dataframe tbody tr th:only-of-type {\n",
       "        vertical-align: middle;\n",
       "    }\n",
       "\n",
       "    .dataframe tbody tr th {\n",
       "        vertical-align: top;\n",
       "    }\n",
       "\n",
       "    .dataframe thead th {\n",
       "        text-align: right;\n",
       "    }\n",
       "</style>\n",
       "<table border=\"1\" class=\"dataframe\">\n",
       "  <thead>\n",
       "    <tr style=\"text-align: right;\">\n",
       "      <th></th>\n",
       "      <th>master_id</th>\n",
       "      <th>order_channel</th>\n",
       "      <th>last_order_channel</th>\n",
       "      <th>first_order_date</th>\n",
       "      <th>last_order_date</th>\n",
       "      <th>last_order_date_online</th>\n",
       "      <th>last_order_date_offline</th>\n",
       "      <th>order_num_total_ever_online</th>\n",
       "      <th>order_num_total_ever_offline</th>\n",
       "      <th>customer_value_total_ever_offline</th>\n",
       "      <th>customer_value_total_ever_online</th>\n",
       "      <th>interested_in_categories_12</th>\n",
       "    </tr>\n",
       "  </thead>\n",
       "  <tbody>\n",
       "    <tr>\n",
       "      <th>0</th>\n",
       "      <td>cc294636-19f0-11eb-8d74-000d3a38a36f</td>\n",
       "      <td>Android App</td>\n",
       "      <td>Offline</td>\n",
       "      <td>2020-10-30</td>\n",
       "      <td>2021-02-26</td>\n",
       "      <td>2021-02-21</td>\n",
       "      <td>2021-02-26</td>\n",
       "      <td>4</td>\n",
       "      <td>1</td>\n",
       "      <td>140</td>\n",
       "      <td>799</td>\n",
       "      <td>[KADIN]</td>\n",
       "    </tr>\n",
       "    <tr>\n",
       "      <th>1</th>\n",
       "      <td>f431bd5a-ab7b-11e9-a2fc-000d3a38a36f</td>\n",
       "      <td>Android App</td>\n",
       "      <td>Mobile</td>\n",
       "      <td>2017-02-08</td>\n",
       "      <td>2021-02-16</td>\n",
       "      <td>2021-02-16</td>\n",
       "      <td>2020-01-10</td>\n",
       "      <td>19</td>\n",
       "      <td>2</td>\n",
       "      <td>160</td>\n",
       "      <td>1854</td>\n",
       "      <td>[ERKEK, COCUK, KADIN, AKTIFSPOR]</td>\n",
       "    </tr>\n",
       "    <tr>\n",
       "      <th>2</th>\n",
       "      <td>69b69676-1a40-11ea-941b-000d3a38a36f</td>\n",
       "      <td>Android App</td>\n",
       "      <td>Android App</td>\n",
       "      <td>2019-11-27</td>\n",
       "      <td>2020-11-27</td>\n",
       "      <td>2020-11-27</td>\n",
       "      <td>2019-12-01</td>\n",
       "      <td>3</td>\n",
       "      <td>2</td>\n",
       "      <td>190</td>\n",
       "      <td>395</td>\n",
       "      <td>[ERKEK, KADIN]</td>\n",
       "    </tr>\n",
       "    <tr>\n",
       "      <th>3</th>\n",
       "      <td>1854e56c-491f-11eb-806e-000d3a38a36f</td>\n",
       "      <td>Android App</td>\n",
       "      <td>Android App</td>\n",
       "      <td>2021-01-06</td>\n",
       "      <td>2021-01-17</td>\n",
       "      <td>2021-01-17</td>\n",
       "      <td>2021-01-06</td>\n",
       "      <td>1</td>\n",
       "      <td>1</td>\n",
       "      <td>40</td>\n",
       "      <td>82</td>\n",
       "      <td>[AKTIFCOCUK, COCUK]</td>\n",
       "    </tr>\n",
       "    <tr>\n",
       "      <th>4</th>\n",
       "      <td>d6ea1074-f1f5-11e9-9346-000d3a38a36f</td>\n",
       "      <td>Desktop</td>\n",
       "      <td>Desktop</td>\n",
       "      <td>2019-08-03</td>\n",
       "      <td>2021-03-07</td>\n",
       "      <td>2021-03-07</td>\n",
       "      <td>2019-08-03</td>\n",
       "      <td>1</td>\n",
       "      <td>1</td>\n",
       "      <td>50</td>\n",
       "      <td>160</td>\n",
       "      <td>[AKTIFSPOR]</td>\n",
       "    </tr>\n",
       "  </tbody>\n",
       "</table>\n",
       "</div>"
      ],
      "text/plain": [
       "                              master_id order_channel last_order_channel first_order_date last_order_date  \\\n",
       "0  cc294636-19f0-11eb-8d74-000d3a38a36f   Android App            Offline       2020-10-30      2021-02-26   \n",
       "1  f431bd5a-ab7b-11e9-a2fc-000d3a38a36f   Android App             Mobile       2017-02-08      2021-02-16   \n",
       "2  69b69676-1a40-11ea-941b-000d3a38a36f   Android App        Android App       2019-11-27      2020-11-27   \n",
       "3  1854e56c-491f-11eb-806e-000d3a38a36f   Android App        Android App       2021-01-06      2021-01-17   \n",
       "4  d6ea1074-f1f5-11e9-9346-000d3a38a36f       Desktop            Desktop       2019-08-03      2021-03-07   \n",
       "\n",
       "  last_order_date_online last_order_date_offline  order_num_total_ever_online  order_num_total_ever_offline  \\\n",
       "0             2021-02-21              2021-02-26                            4                             1   \n",
       "1             2021-02-16              2020-01-10                           19                             2   \n",
       "2             2020-11-27              2019-12-01                            3                             2   \n",
       "3             2021-01-17              2021-01-06                            1                             1   \n",
       "4             2021-03-07              2019-08-03                            1                             1   \n",
       "\n",
       "   customer_value_total_ever_offline  customer_value_total_ever_online       interested_in_categories_12  \n",
       "0                                140                               799                           [KADIN]  \n",
       "1                                160                              1854  [ERKEK, COCUK, KADIN, AKTIFSPOR]  \n",
       "2                                190                               395                    [ERKEK, KADIN]  \n",
       "3                                 40                                82               [AKTIFCOCUK, COCUK]  \n",
       "4                                 50                               160                       [AKTIFSPOR]  "
      ]
     },
     "execution_count": 4,
     "metadata": {},
     "output_type": "execute_result"
    }
   ],
   "source": [
    "#The first 5 rows of the dataset were looked at.\n",
    "df.head()"
   ]
  },
  {
   "cell_type": "code",
   "execution_count": 5,
   "id": "edee63fa",
   "metadata": {
    "execution": {
     "iopub.execute_input": "2022-11-01T14:13:57.219350Z",
     "iopub.status.busy": "2022-11-01T14:13:57.218240Z",
     "iopub.status.idle": "2022-11-01T14:13:57.236405Z",
     "shell.execute_reply": "2022-11-01T14:13:57.235201Z"
    },
    "papermill": {
     "duration": 0.032158,
     "end_time": "2022-11-01T14:13:57.239382",
     "exception": false,
     "start_time": "2022-11-01T14:13:57.207224",
     "status": "completed"
    },
    "tags": []
   },
   "outputs": [
    {
     "data": {
      "text/html": [
       "<div>\n",
       "<style scoped>\n",
       "    .dataframe tbody tr th:only-of-type {\n",
       "        vertical-align: middle;\n",
       "    }\n",
       "\n",
       "    .dataframe tbody tr th {\n",
       "        vertical-align: top;\n",
       "    }\n",
       "\n",
       "    .dataframe thead th {\n",
       "        text-align: right;\n",
       "    }\n",
       "</style>\n",
       "<table border=\"1\" class=\"dataframe\">\n",
       "  <thead>\n",
       "    <tr style=\"text-align: right;\">\n",
       "      <th></th>\n",
       "      <th>master_id</th>\n",
       "      <th>order_channel</th>\n",
       "      <th>last_order_channel</th>\n",
       "      <th>first_order_date</th>\n",
       "      <th>last_order_date</th>\n",
       "      <th>last_order_date_online</th>\n",
       "      <th>last_order_date_offline</th>\n",
       "      <th>order_num_total_ever_online</th>\n",
       "      <th>order_num_total_ever_offline</th>\n",
       "      <th>customer_value_total_ever_offline</th>\n",
       "      <th>customer_value_total_ever_online</th>\n",
       "      <th>interested_in_categories_12</th>\n",
       "    </tr>\n",
       "  </thead>\n",
       "  <tbody>\n",
       "    <tr>\n",
       "      <th>19940</th>\n",
       "      <td>727e2b6e-ddd4-11e9-a848-000d3a38a36f</td>\n",
       "      <td>Android App</td>\n",
       "      <td>Offline</td>\n",
       "      <td>2019-09-21</td>\n",
       "      <td>2020-07-05</td>\n",
       "      <td>2020-06-05</td>\n",
       "      <td>2020-07-05</td>\n",
       "      <td>1</td>\n",
       "      <td>2</td>\n",
       "      <td>290</td>\n",
       "      <td>112</td>\n",
       "      <td>[ERKEK, AKTIFSPOR]</td>\n",
       "    </tr>\n",
       "    <tr>\n",
       "      <th>19941</th>\n",
       "      <td>25cd53d4-61bf-11ea-8dd8-000d3a38a36f</td>\n",
       "      <td>Desktop</td>\n",
       "      <td>Desktop</td>\n",
       "      <td>2020-03-01</td>\n",
       "      <td>2020-12-22</td>\n",
       "      <td>2020-12-22</td>\n",
       "      <td>2020-03-01</td>\n",
       "      <td>1</td>\n",
       "      <td>1</td>\n",
       "      <td>150</td>\n",
       "      <td>240</td>\n",
       "      <td>[AKTIFSPOR]</td>\n",
       "    </tr>\n",
       "    <tr>\n",
       "      <th>19942</th>\n",
       "      <td>8aea4c2a-d6fc-11e9-93bc-000d3a38a36f</td>\n",
       "      <td>Ios App</td>\n",
       "      <td>Ios App</td>\n",
       "      <td>2019-09-11</td>\n",
       "      <td>2021-05-24</td>\n",
       "      <td>2021-05-24</td>\n",
       "      <td>2019-09-11</td>\n",
       "      <td>2</td>\n",
       "      <td>1</td>\n",
       "      <td>140</td>\n",
       "      <td>493</td>\n",
       "      <td>[AKTIFSPOR]</td>\n",
       "    </tr>\n",
       "    <tr>\n",
       "      <th>19943</th>\n",
       "      <td>e50bb46c-ff30-11e9-a5e8-000d3a38a36f</td>\n",
       "      <td>Android App</td>\n",
       "      <td>Android App</td>\n",
       "      <td>2019-03-27</td>\n",
       "      <td>2021-02-13</td>\n",
       "      <td>2021-02-13</td>\n",
       "      <td>2021-01-08</td>\n",
       "      <td>1</td>\n",
       "      <td>5</td>\n",
       "      <td>712</td>\n",
       "      <td>298</td>\n",
       "      <td>[ERKEK, AKTIFSPOR]</td>\n",
       "    </tr>\n",
       "    <tr>\n",
       "      <th>19944</th>\n",
       "      <td>740998d2-b1f7-11e9-89fa-000d3a38a36f</td>\n",
       "      <td>Android App</td>\n",
       "      <td>Android App</td>\n",
       "      <td>2019-09-03</td>\n",
       "      <td>2020-06-06</td>\n",
       "      <td>2020-06-06</td>\n",
       "      <td>2019-09-03</td>\n",
       "      <td>1</td>\n",
       "      <td>1</td>\n",
       "      <td>40</td>\n",
       "      <td>222</td>\n",
       "      <td>[KADIN, AKTIFSPOR]</td>\n",
       "    </tr>\n",
       "  </tbody>\n",
       "</table>\n",
       "</div>"
      ],
      "text/plain": [
       "                                  master_id order_channel last_order_channel first_order_date last_order_date  \\\n",
       "19940  727e2b6e-ddd4-11e9-a848-000d3a38a36f   Android App            Offline       2019-09-21      2020-07-05   \n",
       "19941  25cd53d4-61bf-11ea-8dd8-000d3a38a36f       Desktop            Desktop       2020-03-01      2020-12-22   \n",
       "19942  8aea4c2a-d6fc-11e9-93bc-000d3a38a36f       Ios App            Ios App       2019-09-11      2021-05-24   \n",
       "19943  e50bb46c-ff30-11e9-a5e8-000d3a38a36f   Android App        Android App       2019-03-27      2021-02-13   \n",
       "19944  740998d2-b1f7-11e9-89fa-000d3a38a36f   Android App        Android App       2019-09-03      2020-06-06   \n",
       "\n",
       "      last_order_date_online last_order_date_offline  order_num_total_ever_online  order_num_total_ever_offline  \\\n",
       "19940             2020-06-05              2020-07-05                            1                             2   \n",
       "19941             2020-12-22              2020-03-01                            1                             1   \n",
       "19942             2021-05-24              2019-09-11                            2                             1   \n",
       "19943             2021-02-13              2021-01-08                            1                             5   \n",
       "19944             2020-06-06              2019-09-03                            1                             1   \n",
       "\n",
       "       customer_value_total_ever_offline  customer_value_total_ever_online interested_in_categories_12  \n",
       "19940                                290                               112          [ERKEK, AKTIFSPOR]  \n",
       "19941                                150                               240                 [AKTIFSPOR]  \n",
       "19942                                140                               493                 [AKTIFSPOR]  \n",
       "19943                                712                               298          [ERKEK, AKTIFSPOR]  \n",
       "19944                                 40                               222          [KADIN, AKTIFSPOR]  "
      ]
     },
     "execution_count": 5,
     "metadata": {},
     "output_type": "execute_result"
    }
   ],
   "source": [
    "#The last 5 rows of the dataset were viewed.\n",
    "df.tail()"
   ]
  },
  {
   "cell_type": "code",
   "execution_count": 6,
   "id": "039c5794",
   "metadata": {
    "execution": {
     "iopub.execute_input": "2022-11-01T14:13:57.261211Z",
     "iopub.status.busy": "2022-11-01T14:13:57.260234Z",
     "iopub.status.idle": "2022-11-01T14:13:57.297501Z",
     "shell.execute_reply": "2022-11-01T14:13:57.296114Z"
    },
    "papermill": {
     "duration": 0.051641,
     "end_time": "2022-11-01T14:13:57.300679",
     "exception": false,
     "start_time": "2022-11-01T14:13:57.249038",
     "status": "completed"
    },
    "tags": []
   },
   "outputs": [
    {
     "name": "stdout",
     "output_type": "stream",
     "text": [
      "<class 'pandas.core.frame.DataFrame'>\n",
      "RangeIndex: 19945 entries, 0 to 19944\n",
      "Data columns (total 12 columns):\n",
      " #   Column                             Non-Null Count  Dtype  \n",
      "---  ------                             --------------  -----  \n",
      " 0   master_id                          19945 non-null  object \n",
      " 1   order_channel                      19945 non-null  object \n",
      " 2   last_order_channel                 19945 non-null  object \n",
      " 3   first_order_date                   19945 non-null  object \n",
      " 4   last_order_date                    19945 non-null  object \n",
      " 5   last_order_date_online             19945 non-null  object \n",
      " 6   last_order_date_offline            19945 non-null  object \n",
      " 7   order_num_total_ever_online        19945 non-null  float64\n",
      " 8   order_num_total_ever_offline       19945 non-null  float64\n",
      " 9   customer_value_total_ever_offline  19945 non-null  float64\n",
      " 10  customer_value_total_ever_online   19945 non-null  float64\n",
      " 11  interested_in_categories_12        19945 non-null  object \n",
      "dtypes: float64(4), object(8)\n",
      "memory usage: 1.8+ MB\n"
     ]
    }
   ],
   "source": [
    "#Variable types and numbers of the data set were examined.\n",
    "df.info()"
   ]
  },
  {
   "cell_type": "code",
   "execution_count": 7,
   "id": "6a68b418",
   "metadata": {
    "execution": {
     "iopub.execute_input": "2022-11-01T14:13:57.323105Z",
     "iopub.status.busy": "2022-11-01T14:13:57.322654Z",
     "iopub.status.idle": "2022-11-01T14:13:57.341695Z",
     "shell.execute_reply": "2022-11-01T14:13:57.340715Z"
    },
    "papermill": {
     "duration": 0.033171,
     "end_time": "2022-11-01T14:13:57.344418",
     "exception": false,
     "start_time": "2022-11-01T14:13:57.311247",
     "status": "completed"
    },
    "tags": []
   },
   "outputs": [
    {
     "data": {
      "text/plain": [
       "master_id                            0\n",
       "order_channel                        0\n",
       "last_order_channel                   0\n",
       "first_order_date                     0\n",
       "last_order_date                      0\n",
       "last_order_date_online               0\n",
       "last_order_date_offline              0\n",
       "order_num_total_ever_online          0\n",
       "order_num_total_ever_offline         0\n",
       "customer_value_total_ever_offline    0\n",
       "customer_value_total_ever_online     0\n",
       "interested_in_categories_12          0\n",
       "dtype: int64"
      ]
     },
     "execution_count": 7,
     "metadata": {},
     "output_type": "execute_result"
    }
   ],
   "source": [
    "#It was checked for missing data in the dataset.\n",
    "df.isnull().sum()"
   ]
  },
  {
   "cell_type": "code",
   "execution_count": 8,
   "id": "87b9fb61",
   "metadata": {
    "execution": {
     "iopub.execute_input": "2022-11-01T14:13:57.367109Z",
     "iopub.status.busy": "2022-11-01T14:13:57.365955Z",
     "iopub.status.idle": "2022-11-01T14:13:57.399434Z",
     "shell.execute_reply": "2022-11-01T14:13:57.398339Z"
    },
    "papermill": {
     "duration": 0.047243,
     "end_time": "2022-11-01T14:13:57.401735",
     "exception": false,
     "start_time": "2022-11-01T14:13:57.354492",
     "status": "completed"
    },
    "tags": []
   },
   "outputs": [
    {
     "data": {
      "text/html": [
       "<div>\n",
       "<style scoped>\n",
       "    .dataframe tbody tr th:only-of-type {\n",
       "        vertical-align: middle;\n",
       "    }\n",
       "\n",
       "    .dataframe tbody tr th {\n",
       "        vertical-align: top;\n",
       "    }\n",
       "\n",
       "    .dataframe thead th {\n",
       "        text-align: right;\n",
       "    }\n",
       "</style>\n",
       "<table border=\"1\" class=\"dataframe\">\n",
       "  <thead>\n",
       "    <tr style=\"text-align: right;\">\n",
       "      <th></th>\n",
       "      <th>count</th>\n",
       "      <th>mean</th>\n",
       "      <th>std</th>\n",
       "      <th>min</th>\n",
       "      <th>25%</th>\n",
       "      <th>50%</th>\n",
       "      <th>75%</th>\n",
       "      <th>max</th>\n",
       "    </tr>\n",
       "  </thead>\n",
       "  <tbody>\n",
       "    <tr>\n",
       "      <th>order_num_total_ever_online</th>\n",
       "      <td>19945</td>\n",
       "      <td>3</td>\n",
       "      <td>4</td>\n",
       "      <td>1</td>\n",
       "      <td>1</td>\n",
       "      <td>2</td>\n",
       "      <td>4</td>\n",
       "      <td>200</td>\n",
       "    </tr>\n",
       "    <tr>\n",
       "      <th>order_num_total_ever_offline</th>\n",
       "      <td>19945</td>\n",
       "      <td>2</td>\n",
       "      <td>2</td>\n",
       "      <td>1</td>\n",
       "      <td>1</td>\n",
       "      <td>1</td>\n",
       "      <td>2</td>\n",
       "      <td>109</td>\n",
       "    </tr>\n",
       "    <tr>\n",
       "      <th>customer_value_total_ever_offline</th>\n",
       "      <td>19945</td>\n",
       "      <td>254</td>\n",
       "      <td>302</td>\n",
       "      <td>10</td>\n",
       "      <td>100</td>\n",
       "      <td>180</td>\n",
       "      <td>320</td>\n",
       "      <td>18119</td>\n",
       "    </tr>\n",
       "    <tr>\n",
       "      <th>customer_value_total_ever_online</th>\n",
       "      <td>19945</td>\n",
       "      <td>497</td>\n",
       "      <td>833</td>\n",
       "      <td>13</td>\n",
       "      <td>150</td>\n",
       "      <td>286</td>\n",
       "      <td>578</td>\n",
       "      <td>45220</td>\n",
       "    </tr>\n",
       "  </tbody>\n",
       "</table>\n",
       "</div>"
      ],
      "text/plain": [
       "                                   count  mean  std  min  25%  50%  75%   max\n",
       "order_num_total_ever_online        19945     3    4    1    1    2    4   200\n",
       "order_num_total_ever_offline       19945     2    2    1    1    1    2   109\n",
       "customer_value_total_ever_offline  19945   254  302   10  100  180  320 18119\n",
       "customer_value_total_ever_online   19945   497  833   13  150  286  578 45220"
      ]
     },
     "execution_count": 8,
     "metadata": {},
     "output_type": "execute_result"
    }
   ],
   "source": [
    "#The statistical properties of the columns of the data set containing numeric data were checked.\n",
    "df.describe().T"
   ]
  },
  {
   "cell_type": "code",
   "execution_count": 9,
   "id": "205fc293",
   "metadata": {
    "execution": {
     "iopub.execute_input": "2022-11-01T14:13:57.424245Z",
     "iopub.status.busy": "2022-11-01T14:13:57.423449Z",
     "iopub.status.idle": "2022-11-01T14:13:57.455938Z",
     "shell.execute_reply": "2022-11-01T14:13:57.454617Z"
    },
    "papermill": {
     "duration": 0.047109,
     "end_time": "2022-11-01T14:13:57.458833",
     "exception": false,
     "start_time": "2022-11-01T14:13:57.411724",
     "status": "completed"
    },
    "tags": []
   },
   "outputs": [
    {
     "data": {
      "text/plain": [
       "master_id                            19945\n",
       "order_channel                            4\n",
       "last_order_channel                       5\n",
       "first_order_date                      2465\n",
       "last_order_date                        366\n",
       "last_order_date_online                1743\n",
       "last_order_date_offline                738\n",
       "order_num_total_ever_online             57\n",
       "order_num_total_ever_offline            32\n",
       "customer_value_total_ever_offline     6097\n",
       "customer_value_total_ever_online     11292\n",
       "interested_in_categories_12             32\n",
       "dtype: int64"
      ]
     },
     "execution_count": 9,
     "metadata": {},
     "output_type": "execute_result"
    }
   ],
   "source": [
    "#The number of unique values for each variable in the dataset was looked at.\n",
    "df.nunique()"
   ]
  },
  {
   "cell_type": "markdown",
   "id": "84254bdf",
   "metadata": {
    "papermill": {
     "duration": 0.009628,
     "end_time": "2022-11-01T14:13:57.479074",
     "exception": false,
     "start_time": "2022-11-01T14:13:57.469446",
     "status": "completed"
    },
    "tags": []
   },
   "source": [
    "## Data Manipulation"
   ]
  },
  {
   "cell_type": "code",
   "execution_count": 10,
   "id": "f837501a",
   "metadata": {
    "execution": {
     "iopub.execute_input": "2022-11-01T14:13:57.501590Z",
     "iopub.status.busy": "2022-11-01T14:13:57.501138Z",
     "iopub.status.idle": "2022-11-01T14:13:57.523463Z",
     "shell.execute_reply": "2022-11-01T14:13:57.522354Z"
    },
    "papermill": {
     "duration": 0.037036,
     "end_time": "2022-11-01T14:13:57.526258",
     "exception": false,
     "start_time": "2022-11-01T14:13:57.489222",
     "status": "completed"
    },
    "tags": []
   },
   "outputs": [
    {
     "data": {
      "text/html": [
       "<div>\n",
       "<style scoped>\n",
       "    .dataframe tbody tr th:only-of-type {\n",
       "        vertical-align: middle;\n",
       "    }\n",
       "\n",
       "    .dataframe tbody tr th {\n",
       "        vertical-align: top;\n",
       "    }\n",
       "\n",
       "    .dataframe thead th {\n",
       "        text-align: right;\n",
       "    }\n",
       "</style>\n",
       "<table border=\"1\" class=\"dataframe\">\n",
       "  <thead>\n",
       "    <tr style=\"text-align: right;\">\n",
       "      <th></th>\n",
       "      <th>master_id</th>\n",
       "      <th>order_channel</th>\n",
       "      <th>last_order_channel</th>\n",
       "      <th>first_order_date</th>\n",
       "      <th>last_order_date</th>\n",
       "      <th>last_order_date_online</th>\n",
       "      <th>last_order_date_offline</th>\n",
       "      <th>order_num_total_ever_online</th>\n",
       "      <th>order_num_total_ever_offline</th>\n",
       "      <th>customer_value_total_ever_offline</th>\n",
       "      <th>customer_value_total_ever_online</th>\n",
       "      <th>interested_in_categories_12</th>\n",
       "      <th>total_order_num</th>\n",
       "      <th>total_price</th>\n",
       "    </tr>\n",
       "  </thead>\n",
       "  <tbody>\n",
       "    <tr>\n",
       "      <th>0</th>\n",
       "      <td>cc294636-19f0-11eb-8d74-000d3a38a36f</td>\n",
       "      <td>Android App</td>\n",
       "      <td>Offline</td>\n",
       "      <td>2020-10-30</td>\n",
       "      <td>2021-02-26</td>\n",
       "      <td>2021-02-21</td>\n",
       "      <td>2021-02-26</td>\n",
       "      <td>4</td>\n",
       "      <td>1</td>\n",
       "      <td>140</td>\n",
       "      <td>799</td>\n",
       "      <td>[KADIN]</td>\n",
       "      <td>5</td>\n",
       "      <td>939</td>\n",
       "    </tr>\n",
       "    <tr>\n",
       "      <th>1</th>\n",
       "      <td>f431bd5a-ab7b-11e9-a2fc-000d3a38a36f</td>\n",
       "      <td>Android App</td>\n",
       "      <td>Mobile</td>\n",
       "      <td>2017-02-08</td>\n",
       "      <td>2021-02-16</td>\n",
       "      <td>2021-02-16</td>\n",
       "      <td>2020-01-10</td>\n",
       "      <td>19</td>\n",
       "      <td>2</td>\n",
       "      <td>160</td>\n",
       "      <td>1854</td>\n",
       "      <td>[ERKEK, COCUK, KADIN, AKTIFSPOR]</td>\n",
       "      <td>21</td>\n",
       "      <td>2014</td>\n",
       "    </tr>\n",
       "    <tr>\n",
       "      <th>2</th>\n",
       "      <td>69b69676-1a40-11ea-941b-000d3a38a36f</td>\n",
       "      <td>Android App</td>\n",
       "      <td>Android App</td>\n",
       "      <td>2019-11-27</td>\n",
       "      <td>2020-11-27</td>\n",
       "      <td>2020-11-27</td>\n",
       "      <td>2019-12-01</td>\n",
       "      <td>3</td>\n",
       "      <td>2</td>\n",
       "      <td>190</td>\n",
       "      <td>395</td>\n",
       "      <td>[ERKEK, KADIN]</td>\n",
       "      <td>5</td>\n",
       "      <td>585</td>\n",
       "    </tr>\n",
       "    <tr>\n",
       "      <th>3</th>\n",
       "      <td>1854e56c-491f-11eb-806e-000d3a38a36f</td>\n",
       "      <td>Android App</td>\n",
       "      <td>Android App</td>\n",
       "      <td>2021-01-06</td>\n",
       "      <td>2021-01-17</td>\n",
       "      <td>2021-01-17</td>\n",
       "      <td>2021-01-06</td>\n",
       "      <td>1</td>\n",
       "      <td>1</td>\n",
       "      <td>40</td>\n",
       "      <td>82</td>\n",
       "      <td>[AKTIFCOCUK, COCUK]</td>\n",
       "      <td>2</td>\n",
       "      <td>122</td>\n",
       "    </tr>\n",
       "    <tr>\n",
       "      <th>4</th>\n",
       "      <td>d6ea1074-f1f5-11e9-9346-000d3a38a36f</td>\n",
       "      <td>Desktop</td>\n",
       "      <td>Desktop</td>\n",
       "      <td>2019-08-03</td>\n",
       "      <td>2021-03-07</td>\n",
       "      <td>2021-03-07</td>\n",
       "      <td>2019-08-03</td>\n",
       "      <td>1</td>\n",
       "      <td>1</td>\n",
       "      <td>50</td>\n",
       "      <td>160</td>\n",
       "      <td>[AKTIFSPOR]</td>\n",
       "      <td>2</td>\n",
       "      <td>210</td>\n",
       "    </tr>\n",
       "  </tbody>\n",
       "</table>\n",
       "</div>"
      ],
      "text/plain": [
       "                              master_id order_channel last_order_channel first_order_date last_order_date  \\\n",
       "0  cc294636-19f0-11eb-8d74-000d3a38a36f   Android App            Offline       2020-10-30      2021-02-26   \n",
       "1  f431bd5a-ab7b-11e9-a2fc-000d3a38a36f   Android App             Mobile       2017-02-08      2021-02-16   \n",
       "2  69b69676-1a40-11ea-941b-000d3a38a36f   Android App        Android App       2019-11-27      2020-11-27   \n",
       "3  1854e56c-491f-11eb-806e-000d3a38a36f   Android App        Android App       2021-01-06      2021-01-17   \n",
       "4  d6ea1074-f1f5-11e9-9346-000d3a38a36f       Desktop            Desktop       2019-08-03      2021-03-07   \n",
       "\n",
       "  last_order_date_online last_order_date_offline  order_num_total_ever_online  order_num_total_ever_offline  \\\n",
       "0             2021-02-21              2021-02-26                            4                             1   \n",
       "1             2021-02-16              2020-01-10                           19                             2   \n",
       "2             2020-11-27              2019-12-01                            3                             2   \n",
       "3             2021-01-17              2021-01-06                            1                             1   \n",
       "4             2021-03-07              2019-08-03                            1                             1   \n",
       "\n",
       "   customer_value_total_ever_offline  customer_value_total_ever_online       interested_in_categories_12  total_order_num  \\\n",
       "0                                140                               799                           [KADIN]                5   \n",
       "1                                160                              1854  [ERKEK, COCUK, KADIN, AKTIFSPOR]               21   \n",
       "2                                190                               395                    [ERKEK, KADIN]                5   \n",
       "3                                 40                                82               [AKTIFCOCUK, COCUK]                2   \n",
       "4                                 50                               160                       [AKTIFSPOR]                2   \n",
       "\n",
       "   total_price  \n",
       "0          939  \n",
       "1         2014  \n",
       "2          585  \n",
       "3          122  \n",
       "4          210  "
      ]
     },
     "execution_count": 10,
     "metadata": {},
     "output_type": "execute_result"
    }
   ],
   "source": [
    "\"\"\"\n",
    "Omnichannel means that customers shop from both online and offline platforms.\n",
    "New variables were created for the total number of purchases and spending of each customer.\n",
    "\"\"\"\n",
    "\n",
    "df[\"total_order_num\"] = df [\"order_num_total_ever_online\"] + df [\"order_num_total_ever_offline\"]\n",
    "df[\"total_price\"] = df [\"customer_value_total_ever_offline\"] + df [\"customer_value_total_ever_online\"]\n",
    "df.head()"
   ]
  },
  {
   "cell_type": "code",
   "execution_count": 11,
   "id": "b4a28678",
   "metadata": {
    "execution": {
     "iopub.execute_input": "2022-11-01T14:13:57.550292Z",
     "iopub.status.busy": "2022-11-01T14:13:57.549823Z",
     "iopub.status.idle": "2022-11-01T14:13:57.593008Z",
     "shell.execute_reply": "2022-11-01T14:13:57.591727Z"
    },
    "papermill": {
     "duration": 0.058791,
     "end_time": "2022-11-01T14:13:57.596037",
     "exception": false,
     "start_time": "2022-11-01T14:13:57.537246",
     "status": "completed"
    },
    "tags": []
   },
   "outputs": [
    {
     "data": {
      "text/plain": [
       "master_id                                    object\n",
       "order_channel                                object\n",
       "last_order_channel                           object\n",
       "first_order_date                     datetime64[ns]\n",
       "last_order_date                      datetime64[ns]\n",
       "last_order_date_online               datetime64[ns]\n",
       "last_order_date_offline              datetime64[ns]\n",
       "order_num_total_ever_online                 float64\n",
       "order_num_total_ever_offline                float64\n",
       "customer_value_total_ever_offline           float64\n",
       "customer_value_total_ever_online            float64\n",
       "interested_in_categories_12                  object\n",
       "total_order_num                             float64\n",
       "total_price                                 float64\n",
       "dtype: object"
      ]
     },
     "execution_count": 11,
     "metadata": {},
     "output_type": "execute_result"
    }
   ],
   "source": [
    "#The data types of the date variables are changed with datetime module to be able to use them in date calculations.\n",
    "convert_date = df.columns[df.columns.str.contains(\"date\")]\n",
    "\n",
    "df[convert_date] = df[convert_date].apply(pd.to_datetime)\n",
    "df.dtypes"
   ]
  },
  {
   "cell_type": "code",
   "execution_count": 12,
   "id": "443f47f7",
   "metadata": {
    "execution": {
     "iopub.execute_input": "2022-11-01T14:13:57.619925Z",
     "iopub.status.busy": "2022-11-01T14:13:57.619130Z",
     "iopub.status.idle": "2022-11-01T14:13:57.644228Z",
     "shell.execute_reply": "2022-11-01T14:13:57.643359Z"
    },
    "papermill": {
     "duration": 0.039636,
     "end_time": "2022-11-01T14:13:57.646470",
     "exception": false,
     "start_time": "2022-11-01T14:13:57.606834",
     "status": "completed"
    },
    "tags": []
   },
   "outputs": [
    {
     "data": {
      "text/html": [
       "<div>\n",
       "<style scoped>\n",
       "    .dataframe tbody tr th:only-of-type {\n",
       "        vertical-align: middle;\n",
       "    }\n",
       "\n",
       "    .dataframe tbody tr th {\n",
       "        vertical-align: top;\n",
       "    }\n",
       "\n",
       "    .dataframe thead th {\n",
       "        text-align: right;\n",
       "    }\n",
       "</style>\n",
       "<table border=\"1\" class=\"dataframe\">\n",
       "  <thead>\n",
       "    <tr style=\"text-align: right;\">\n",
       "      <th></th>\n",
       "      <th>master_id</th>\n",
       "      <th>total_order_num</th>\n",
       "      <th>total_price</th>\n",
       "    </tr>\n",
       "    <tr>\n",
       "      <th>order_channel</th>\n",
       "      <th></th>\n",
       "      <th></th>\n",
       "      <th></th>\n",
       "    </tr>\n",
       "  </thead>\n",
       "  <tbody>\n",
       "    <tr>\n",
       "      <th>Android App</th>\n",
       "      <td>9495</td>\n",
       "      <td>52269</td>\n",
       "      <td>7819063</td>\n",
       "    </tr>\n",
       "    <tr>\n",
       "      <th>Desktop</th>\n",
       "      <td>2735</td>\n",
       "      <td>10920</td>\n",
       "      <td>1610321</td>\n",
       "    </tr>\n",
       "    <tr>\n",
       "      <th>Ios App</th>\n",
       "      <td>2833</td>\n",
       "      <td>15351</td>\n",
       "      <td>2526000</td>\n",
       "    </tr>\n",
       "    <tr>\n",
       "      <th>Mobile</th>\n",
       "      <td>4882</td>\n",
       "      <td>21679</td>\n",
       "      <td>3028183</td>\n",
       "    </tr>\n",
       "  </tbody>\n",
       "</table>\n",
       "</div>"
      ],
      "text/plain": [
       "               master_id  total_order_num  total_price\n",
       "order_channel                                         \n",
       "Android App         9495            52269      7819063\n",
       "Desktop             2735            10920      1610321\n",
       "Ios App             2833            15351      2526000\n",
       "Mobile              4882            21679      3028183"
      ]
     },
     "execution_count": 12,
     "metadata": {},
     "output_type": "execute_result"
    }
   ],
   "source": [
    "\"\"\"\n",
    "We analyzed the distribution of the number of customers in the shopping channels,\n",
    "the total number of products purchased and the total expenditures.\n",
    "\"\"\"\n",
    "df.groupby(\"order_channel\").agg({\"master_id\" : \"nunique\", \"total_order_num\": \"sum\", \"total_price\": \"sum\" })\n"
   ]
  },
  {
   "cell_type": "code",
   "execution_count": 13,
   "id": "ecc6e178",
   "metadata": {
    "execution": {
     "iopub.execute_input": "2022-11-01T14:13:57.670167Z",
     "iopub.status.busy": "2022-11-01T14:13:57.669689Z",
     "iopub.status.idle": "2022-11-01T14:13:57.698949Z",
     "shell.execute_reply": "2022-11-01T14:13:57.697697Z"
    },
    "papermill": {
     "duration": 0.044195,
     "end_time": "2022-11-01T14:13:57.701586",
     "exception": false,
     "start_time": "2022-11-01T14:13:57.657391",
     "status": "completed"
    },
    "tags": []
   },
   "outputs": [
    {
     "data": {
      "text/html": [
       "<div>\n",
       "<style scoped>\n",
       "    .dataframe tbody tr th:only-of-type {\n",
       "        vertical-align: middle;\n",
       "    }\n",
       "\n",
       "    .dataframe tbody tr th {\n",
       "        vertical-align: top;\n",
       "    }\n",
       "\n",
       "    .dataframe thead th {\n",
       "        text-align: right;\n",
       "    }\n",
       "</style>\n",
       "<table border=\"1\" class=\"dataframe\">\n",
       "  <thead>\n",
       "    <tr style=\"text-align: right;\">\n",
       "      <th></th>\n",
       "      <th>master_id</th>\n",
       "      <th>order_channel</th>\n",
       "      <th>last_order_channel</th>\n",
       "      <th>first_order_date</th>\n",
       "      <th>last_order_date</th>\n",
       "      <th>last_order_date_online</th>\n",
       "      <th>last_order_date_offline</th>\n",
       "      <th>order_num_total_ever_online</th>\n",
       "      <th>order_num_total_ever_offline</th>\n",
       "      <th>customer_value_total_ever_offline</th>\n",
       "      <th>customer_value_total_ever_online</th>\n",
       "      <th>interested_in_categories_12</th>\n",
       "      <th>total_order_num</th>\n",
       "      <th>total_price</th>\n",
       "    </tr>\n",
       "  </thead>\n",
       "  <tbody>\n",
       "    <tr>\n",
       "      <th>11150</th>\n",
       "      <td>5d1c466a-9cfd-11e9-9897-000d3a38a36f</td>\n",
       "      <td>Android App</td>\n",
       "      <td>Desktop</td>\n",
       "      <td>2013-10-11</td>\n",
       "      <td>2021-04-30</td>\n",
       "      <td>2021-04-30</td>\n",
       "      <td>2020-12-24</td>\n",
       "      <td>200</td>\n",
       "      <td>2</td>\n",
       "      <td>685</td>\n",
       "      <td>45220</td>\n",
       "      <td>[AKTIFCOCUK, ERKEK, COCUK, KADIN, AKTIFSPOR]</td>\n",
       "      <td>202</td>\n",
       "      <td>45905</td>\n",
       "    </tr>\n",
       "    <tr>\n",
       "      <th>4315</th>\n",
       "      <td>d5ef8058-a5c6-11e9-a2fc-000d3a38a36f</td>\n",
       "      <td>Android App</td>\n",
       "      <td>Android App</td>\n",
       "      <td>2018-08-06</td>\n",
       "      <td>2021-02-23</td>\n",
       "      <td>2021-02-23</td>\n",
       "      <td>2020-07-06</td>\n",
       "      <td>67</td>\n",
       "      <td>1</td>\n",
       "      <td>130</td>\n",
       "      <td>36688</td>\n",
       "      <td>[AKTIFCOCUK, ERKEK, KADIN, AKTIFSPOR]</td>\n",
       "      <td>68</td>\n",
       "      <td>36818</td>\n",
       "    </tr>\n",
       "    <tr>\n",
       "      <th>7613</th>\n",
       "      <td>73fd19aa-9e37-11e9-9897-000d3a38a36f</td>\n",
       "      <td>Ios App</td>\n",
       "      <td>Offline</td>\n",
       "      <td>2014-01-14</td>\n",
       "      <td>2021-05-18</td>\n",
       "      <td>2021-01-30</td>\n",
       "      <td>2021-05-18</td>\n",
       "      <td>81</td>\n",
       "      <td>1</td>\n",
       "      <td>1264</td>\n",
       "      <td>32654</td>\n",
       "      <td>[ERKEK, COCUK, KADIN, AKTIFSPOR]</td>\n",
       "      <td>82</td>\n",
       "      <td>33918</td>\n",
       "    </tr>\n",
       "    <tr>\n",
       "      <th>13880</th>\n",
       "      <td>7137a5c0-7aad-11ea-8f20-000d3a38a36f</td>\n",
       "      <td>Ios App</td>\n",
       "      <td>Offline</td>\n",
       "      <td>2021-03-01</td>\n",
       "      <td>2021-04-13</td>\n",
       "      <td>2021-03-18</td>\n",
       "      <td>2021-04-13</td>\n",
       "      <td>10</td>\n",
       "      <td>1</td>\n",
       "      <td>539</td>\n",
       "      <td>30688</td>\n",
       "      <td>[ERKEK, KADIN, AKTIFSPOR]</td>\n",
       "      <td>11</td>\n",
       "      <td>31227</td>\n",
       "    </tr>\n",
       "    <tr>\n",
       "      <th>9055</th>\n",
       "      <td>47a642fe-975b-11eb-8c2a-000d3a38a36f</td>\n",
       "      <td>Android App</td>\n",
       "      <td>Offline</td>\n",
       "      <td>2021-04-07</td>\n",
       "      <td>2021-04-27</td>\n",
       "      <td>2021-04-07</td>\n",
       "      <td>2021-04-27</td>\n",
       "      <td>1</td>\n",
       "      <td>3</td>\n",
       "      <td>18119</td>\n",
       "      <td>2587</td>\n",
       "      <td>[AKTIFSPOR]</td>\n",
       "      <td>4</td>\n",
       "      <td>20706</td>\n",
       "    </tr>\n",
       "  </tbody>\n",
       "</table>\n",
       "</div>"
      ],
      "text/plain": [
       "                                  master_id order_channel last_order_channel first_order_date last_order_date  \\\n",
       "11150  5d1c466a-9cfd-11e9-9897-000d3a38a36f   Android App            Desktop       2013-10-11      2021-04-30   \n",
       "4315   d5ef8058-a5c6-11e9-a2fc-000d3a38a36f   Android App        Android App       2018-08-06      2021-02-23   \n",
       "7613   73fd19aa-9e37-11e9-9897-000d3a38a36f       Ios App            Offline       2014-01-14      2021-05-18   \n",
       "13880  7137a5c0-7aad-11ea-8f20-000d3a38a36f       Ios App            Offline       2021-03-01      2021-04-13   \n",
       "9055   47a642fe-975b-11eb-8c2a-000d3a38a36f   Android App            Offline       2021-04-07      2021-04-27   \n",
       "\n",
       "      last_order_date_online last_order_date_offline  order_num_total_ever_online  order_num_total_ever_offline  \\\n",
       "11150             2021-04-30              2020-12-24                          200                             2   \n",
       "4315              2021-02-23              2020-07-06                           67                             1   \n",
       "7613              2021-01-30              2021-05-18                           81                             1   \n",
       "13880             2021-03-18              2021-04-13                           10                             1   \n",
       "9055              2021-04-07              2021-04-27                            1                             3   \n",
       "\n",
       "       customer_value_total_ever_offline  customer_value_total_ever_online                   interested_in_categories_12  \\\n",
       "11150                                685                             45220  [AKTIFCOCUK, ERKEK, COCUK, KADIN, AKTIFSPOR]   \n",
       "4315                                 130                             36688         [AKTIFCOCUK, ERKEK, KADIN, AKTIFSPOR]   \n",
       "7613                                1264                             32654              [ERKEK, COCUK, KADIN, AKTIFSPOR]   \n",
       "13880                                539                             30688                     [ERKEK, KADIN, AKTIFSPOR]   \n",
       "9055                               18119                              2587                                   [AKTIFSPOR]   \n",
       "\n",
       "       total_order_num  total_price  \n",
       "11150              202        45905  \n",
       "4315                68        36818  \n",
       "7613                82        33918  \n",
       "13880               11        31227  \n",
       "9055                 4        20706  "
      ]
     },
     "execution_count": 13,
     "metadata": {},
     "output_type": "execute_result"
    }
   ],
   "source": [
    "#The top 5 customers with the highest earnings were listed.\n",
    "df.sort_values(by = \"total_price\",ascending=False).head()"
   ]
  },
  {
   "cell_type": "code",
   "execution_count": 14,
   "id": "59291aa4",
   "metadata": {
    "execution": {
     "iopub.execute_input": "2022-11-01T14:13:57.725875Z",
     "iopub.status.busy": "2022-11-01T14:13:57.725399Z",
     "iopub.status.idle": "2022-11-01T14:13:57.753562Z",
     "shell.execute_reply": "2022-11-01T14:13:57.752617Z"
    },
    "papermill": {
     "duration": 0.042969,
     "end_time": "2022-11-01T14:13:57.755802",
     "exception": false,
     "start_time": "2022-11-01T14:13:57.712833",
     "status": "completed"
    },
    "tags": []
   },
   "outputs": [
    {
     "data": {
      "text/html": [
       "<div>\n",
       "<style scoped>\n",
       "    .dataframe tbody tr th:only-of-type {\n",
       "        vertical-align: middle;\n",
       "    }\n",
       "\n",
       "    .dataframe tbody tr th {\n",
       "        vertical-align: top;\n",
       "    }\n",
       "\n",
       "    .dataframe thead th {\n",
       "        text-align: right;\n",
       "    }\n",
       "</style>\n",
       "<table border=\"1\" class=\"dataframe\">\n",
       "  <thead>\n",
       "    <tr style=\"text-align: right;\">\n",
       "      <th></th>\n",
       "      <th>master_id</th>\n",
       "      <th>order_channel</th>\n",
       "      <th>last_order_channel</th>\n",
       "      <th>first_order_date</th>\n",
       "      <th>last_order_date</th>\n",
       "      <th>last_order_date_online</th>\n",
       "      <th>last_order_date_offline</th>\n",
       "      <th>order_num_total_ever_online</th>\n",
       "      <th>order_num_total_ever_offline</th>\n",
       "      <th>customer_value_total_ever_offline</th>\n",
       "      <th>customer_value_total_ever_online</th>\n",
       "      <th>interested_in_categories_12</th>\n",
       "      <th>total_order_num</th>\n",
       "      <th>total_price</th>\n",
       "    </tr>\n",
       "  </thead>\n",
       "  <tbody>\n",
       "    <tr>\n",
       "      <th>11150</th>\n",
       "      <td>5d1c466a-9cfd-11e9-9897-000d3a38a36f</td>\n",
       "      <td>Android App</td>\n",
       "      <td>Desktop</td>\n",
       "      <td>2013-10-11</td>\n",
       "      <td>2021-04-30</td>\n",
       "      <td>2021-04-30</td>\n",
       "      <td>2020-12-24</td>\n",
       "      <td>200</td>\n",
       "      <td>2</td>\n",
       "      <td>685</td>\n",
       "      <td>45220</td>\n",
       "      <td>[AKTIFCOCUK, ERKEK, COCUK, KADIN, AKTIFSPOR]</td>\n",
       "      <td>202</td>\n",
       "      <td>45905</td>\n",
       "    </tr>\n",
       "    <tr>\n",
       "      <th>7223</th>\n",
       "      <td>cba59206-9dd1-11e9-9897-000d3a38a36f</td>\n",
       "      <td>Android App</td>\n",
       "      <td>Android App</td>\n",
       "      <td>2013-02-21</td>\n",
       "      <td>2021-05-09</td>\n",
       "      <td>2021-05-09</td>\n",
       "      <td>2020-01-25</td>\n",
       "      <td>130</td>\n",
       "      <td>1</td>\n",
       "      <td>50</td>\n",
       "      <td>12232</td>\n",
       "      <td>[AKTIFCOCUK, ERKEK, KADIN, AKTIFSPOR]</td>\n",
       "      <td>131</td>\n",
       "      <td>12282</td>\n",
       "    </tr>\n",
       "    <tr>\n",
       "      <th>8783</th>\n",
       "      <td>a57f4302-b1a8-11e9-89fa-000d3a38a36f</td>\n",
       "      <td>Android App</td>\n",
       "      <td>Offline</td>\n",
       "      <td>2019-08-07</td>\n",
       "      <td>2020-11-04</td>\n",
       "      <td>2020-09-07</td>\n",
       "      <td>2020-11-04</td>\n",
       "      <td>2</td>\n",
       "      <td>109</td>\n",
       "      <td>10239</td>\n",
       "      <td>144</td>\n",
       "      <td>[AKTIFCOCUK, ERKEK, COCUK, KADIN, AKTIFSPOR]</td>\n",
       "      <td>111</td>\n",
       "      <td>10383</td>\n",
       "    </tr>\n",
       "    <tr>\n",
       "      <th>2619</th>\n",
       "      <td>fdbe8304-a7ab-11e9-a2fc-000d3a38a36f</td>\n",
       "      <td>Android App</td>\n",
       "      <td>Offline</td>\n",
       "      <td>2018-10-18</td>\n",
       "      <td>2020-06-30</td>\n",
       "      <td>2018-10-18</td>\n",
       "      <td>2020-06-30</td>\n",
       "      <td>1</td>\n",
       "      <td>87</td>\n",
       "      <td>8432</td>\n",
       "      <td>140</td>\n",
       "      <td>[ERKEK]</td>\n",
       "      <td>88</td>\n",
       "      <td>8572</td>\n",
       "    </tr>\n",
       "    <tr>\n",
       "      <th>6322</th>\n",
       "      <td>329968c6-a0e2-11e9-a2fc-000d3a38a36f</td>\n",
       "      <td>Ios App</td>\n",
       "      <td>Ios App</td>\n",
       "      <td>2019-02-14</td>\n",
       "      <td>2021-04-05</td>\n",
       "      <td>2021-04-05</td>\n",
       "      <td>2020-02-17</td>\n",
       "      <td>2</td>\n",
       "      <td>81</td>\n",
       "      <td>3998</td>\n",
       "      <td>243</td>\n",
       "      <td>[ERKEK]</td>\n",
       "      <td>83</td>\n",
       "      <td>4240</td>\n",
       "    </tr>\n",
       "  </tbody>\n",
       "</table>\n",
       "</div>"
      ],
      "text/plain": [
       "                                  master_id order_channel last_order_channel first_order_date last_order_date  \\\n",
       "11150  5d1c466a-9cfd-11e9-9897-000d3a38a36f   Android App            Desktop       2013-10-11      2021-04-30   \n",
       "7223   cba59206-9dd1-11e9-9897-000d3a38a36f   Android App        Android App       2013-02-21      2021-05-09   \n",
       "8783   a57f4302-b1a8-11e9-89fa-000d3a38a36f   Android App            Offline       2019-08-07      2020-11-04   \n",
       "2619   fdbe8304-a7ab-11e9-a2fc-000d3a38a36f   Android App            Offline       2018-10-18      2020-06-30   \n",
       "6322   329968c6-a0e2-11e9-a2fc-000d3a38a36f       Ios App            Ios App       2019-02-14      2021-04-05   \n",
       "\n",
       "      last_order_date_online last_order_date_offline  order_num_total_ever_online  order_num_total_ever_offline  \\\n",
       "11150             2021-04-30              2020-12-24                          200                             2   \n",
       "7223              2021-05-09              2020-01-25                          130                             1   \n",
       "8783              2020-09-07              2020-11-04                            2                           109   \n",
       "2619              2018-10-18              2020-06-30                            1                            87   \n",
       "6322              2021-04-05              2020-02-17                            2                            81   \n",
       "\n",
       "       customer_value_total_ever_offline  customer_value_total_ever_online                   interested_in_categories_12  \\\n",
       "11150                                685                             45220  [AKTIFCOCUK, ERKEK, COCUK, KADIN, AKTIFSPOR]   \n",
       "7223                                  50                             12232         [AKTIFCOCUK, ERKEK, KADIN, AKTIFSPOR]   \n",
       "8783                               10239                               144  [AKTIFCOCUK, ERKEK, COCUK, KADIN, AKTIFSPOR]   \n",
       "2619                                8432                               140                                       [ERKEK]   \n",
       "6322                                3998                               243                                       [ERKEK]   \n",
       "\n",
       "       total_order_num  total_price  \n",
       "11150              202        45905  \n",
       "7223               131        12282  \n",
       "8783               111        10383  \n",
       "2619                88         8572  \n",
       "6322                83         4240  "
      ]
     },
     "execution_count": 14,
     "metadata": {},
     "output_type": "execute_result"
    }
   ],
   "source": [
    "#The top 5 customers with the most orders were listed.\n",
    "df.sort_values(by = \"total_order_num\",ascending=False).head()"
   ]
  },
  {
   "cell_type": "code",
   "execution_count": 15,
   "id": "6800f3eb",
   "metadata": {
    "execution": {
     "iopub.execute_input": "2022-11-01T14:13:57.780591Z",
     "iopub.status.busy": "2022-11-01T14:13:57.780131Z",
     "iopub.status.idle": "2022-11-01T14:13:57.788090Z",
     "shell.execute_reply": "2022-11-01T14:13:57.786513Z"
    },
    "papermill": {
     "duration": 0.023356,
     "end_time": "2022-11-01T14:13:57.790837",
     "exception": false,
     "start_time": "2022-11-01T14:13:57.767481",
     "status": "completed"
    },
    "tags": []
   },
   "outputs": [
    {
     "name": "stdout",
     "output_type": "stream",
     "text": [
      "2021-05-30 00:00:00\n"
     ]
    }
   ],
   "source": [
    "\"\"\"For the RFM analysis we have to choose a analysis date, \n",
    "The date 2 days after the last purchase is selected.\n",
    "\"\"\"\n",
    "print(df.last_order_date.max())\n",
    "today_date=dt.datetime(2021,6,1)\n"
   ]
  },
  {
   "cell_type": "code",
   "execution_count": 16,
   "id": "656da9a0",
   "metadata": {
    "execution": {
     "iopub.execute_input": "2022-11-01T14:13:57.815402Z",
     "iopub.status.busy": "2022-11-01T14:13:57.814971Z",
     "iopub.status.idle": "2022-11-01T14:13:57.839079Z",
     "shell.execute_reply": "2022-11-01T14:13:57.838065Z"
    },
    "papermill": {
     "duration": 0.039362,
     "end_time": "2022-11-01T14:13:57.841599",
     "exception": false,
     "start_time": "2022-11-01T14:13:57.802237",
     "status": "completed"
    },
    "tags": []
   },
   "outputs": [
    {
     "data": {
      "text/html": [
       "<div>\n",
       "<style scoped>\n",
       "    .dataframe tbody tr th:only-of-type {\n",
       "        vertical-align: middle;\n",
       "    }\n",
       "\n",
       "    .dataframe tbody tr th {\n",
       "        vertical-align: top;\n",
       "    }\n",
       "\n",
       "    .dataframe thead th {\n",
       "        text-align: right;\n",
       "    }\n",
       "</style>\n",
       "<table border=\"1\" class=\"dataframe\">\n",
       "  <thead>\n",
       "    <tr style=\"text-align: right;\">\n",
       "      <th></th>\n",
       "      <th>customer_id</th>\n",
       "      <th>recency</th>\n",
       "      <th>frequency</th>\n",
       "      <th>monetary</th>\n",
       "    </tr>\n",
       "  </thead>\n",
       "  <tbody>\n",
       "    <tr>\n",
       "      <th>0</th>\n",
       "      <td>cc294636-19f0-11eb-8d74-000d3a38a36f</td>\n",
       "      <td>95</td>\n",
       "      <td>5</td>\n",
       "      <td>939</td>\n",
       "    </tr>\n",
       "    <tr>\n",
       "      <th>1</th>\n",
       "      <td>f431bd5a-ab7b-11e9-a2fc-000d3a38a36f</td>\n",
       "      <td>105</td>\n",
       "      <td>21</td>\n",
       "      <td>2014</td>\n",
       "    </tr>\n",
       "    <tr>\n",
       "      <th>2</th>\n",
       "      <td>69b69676-1a40-11ea-941b-000d3a38a36f</td>\n",
       "      <td>186</td>\n",
       "      <td>5</td>\n",
       "      <td>585</td>\n",
       "    </tr>\n",
       "    <tr>\n",
       "      <th>3</th>\n",
       "      <td>1854e56c-491f-11eb-806e-000d3a38a36f</td>\n",
       "      <td>135</td>\n",
       "      <td>2</td>\n",
       "      <td>122</td>\n",
       "    </tr>\n",
       "    <tr>\n",
       "      <th>4</th>\n",
       "      <td>d6ea1074-f1f5-11e9-9346-000d3a38a36f</td>\n",
       "      <td>86</td>\n",
       "      <td>2</td>\n",
       "      <td>210</td>\n",
       "    </tr>\n",
       "  </tbody>\n",
       "</table>\n",
       "</div>"
      ],
      "text/plain": [
       "                            customer_id  recency  frequency  monetary\n",
       "0  cc294636-19f0-11eb-8d74-000d3a38a36f       95          5       939\n",
       "1  f431bd5a-ab7b-11e9-a2fc-000d3a38a36f      105         21      2014\n",
       "2  69b69676-1a40-11ea-941b-000d3a38a36f      186          5       585\n",
       "3  1854e56c-491f-11eb-806e-000d3a38a36f      135          2       122\n",
       "4  d6ea1074-f1f5-11e9-9346-000d3a38a36f       86          2       210"
      ]
     },
     "execution_count": 16,
     "metadata": {},
     "output_type": "execute_result"
    }
   ],
   "source": [
    "\"\"\"\n",
    "For the RFM analysis, \n",
    "Recency, Frequency and Monetary metrics are calculated and stored in to a dataframe.\n",
    "\"\"\"\n",
    "rfm = pd.DataFrame()\n",
    "rfm[\"customer_id\"] = df[\"master_id\"]\n",
    "rfm[\"recency\"] = (today_date - df[\"last_order_date\"]).astype('timedelta64[D]')\n",
    "rfm[\"frequency\"] = df[\"total_order_num\"]\n",
    "rfm[\"monetary\"] = df[\"total_price\"]\n",
    "rfm.head()"
   ]
  },
  {
   "cell_type": "code",
   "execution_count": 17,
   "id": "1e96ac2f",
   "metadata": {
    "execution": {
     "iopub.execute_input": "2022-11-01T14:13:57.873460Z",
     "iopub.status.busy": "2022-11-01T14:13:57.872451Z",
     "iopub.status.idle": "2022-11-01T14:13:57.913056Z",
     "shell.execute_reply": "2022-11-01T14:13:57.908567Z"
    },
    "papermill": {
     "duration": 0.062081,
     "end_time": "2022-11-01T14:13:57.916377",
     "exception": false,
     "start_time": "2022-11-01T14:13:57.854296",
     "status": "completed"
    },
    "tags": []
   },
   "outputs": [
    {
     "data": {
      "text/html": [
       "<div>\n",
       "<style scoped>\n",
       "    .dataframe tbody tr th:only-of-type {\n",
       "        vertical-align: middle;\n",
       "    }\n",
       "\n",
       "    .dataframe tbody tr th {\n",
       "        vertical-align: top;\n",
       "    }\n",
       "\n",
       "    .dataframe thead th {\n",
       "        text-align: right;\n",
       "    }\n",
       "</style>\n",
       "<table border=\"1\" class=\"dataframe\">\n",
       "  <thead>\n",
       "    <tr style=\"text-align: right;\">\n",
       "      <th></th>\n",
       "      <th>count</th>\n",
       "      <th>mean</th>\n",
       "      <th>std</th>\n",
       "      <th>min</th>\n",
       "      <th>25%</th>\n",
       "      <th>50%</th>\n",
       "      <th>75%</th>\n",
       "      <th>max</th>\n",
       "    </tr>\n",
       "  </thead>\n",
       "  <tbody>\n",
       "    <tr>\n",
       "      <th>recency</th>\n",
       "      <td>19945</td>\n",
       "      <td>134</td>\n",
       "      <td>103</td>\n",
       "      <td>2</td>\n",
       "      <td>43</td>\n",
       "      <td>111</td>\n",
       "      <td>202</td>\n",
       "      <td>367</td>\n",
       "    </tr>\n",
       "    <tr>\n",
       "      <th>frequency</th>\n",
       "      <td>19945</td>\n",
       "      <td>5</td>\n",
       "      <td>5</td>\n",
       "      <td>2</td>\n",
       "      <td>3</td>\n",
       "      <td>4</td>\n",
       "      <td>6</td>\n",
       "      <td>202</td>\n",
       "    </tr>\n",
       "    <tr>\n",
       "      <th>monetary</th>\n",
       "      <td>19945</td>\n",
       "      <td>751</td>\n",
       "      <td>895</td>\n",
       "      <td>45</td>\n",
       "      <td>340</td>\n",
       "      <td>545</td>\n",
       "      <td>898</td>\n",
       "      <td>45905</td>\n",
       "    </tr>\n",
       "  </tbody>\n",
       "</table>\n",
       "</div>"
      ],
      "text/plain": [
       "           count  mean  std  min  25%  50%  75%   max\n",
       "recency    19945   134  103    2   43  111  202   367\n",
       "frequency  19945     5    5    2    3    4    6   202\n",
       "monetary   19945   751  895   45  340  545  898 45905"
      ]
     },
     "execution_count": 17,
     "metadata": {},
     "output_type": "execute_result"
    }
   ],
   "source": [
    "rfm.describe().T"
   ]
  },
  {
   "cell_type": "code",
   "execution_count": 18,
   "id": "071c74fe",
   "metadata": {
    "execution": {
     "iopub.execute_input": "2022-11-01T14:13:57.944045Z",
     "iopub.status.busy": "2022-11-01T14:13:57.943576Z",
     "iopub.status.idle": "2022-11-01T14:13:57.987701Z",
     "shell.execute_reply": "2022-11-01T14:13:57.986154Z"
    },
    "papermill": {
     "duration": 0.060797,
     "end_time": "2022-11-01T14:13:57.990698",
     "exception": false,
     "start_time": "2022-11-01T14:13:57.929901",
     "status": "completed"
    },
    "tags": []
   },
   "outputs": [
    {
     "data": {
      "text/html": [
       "<div>\n",
       "<style scoped>\n",
       "    .dataframe tbody tr th:only-of-type {\n",
       "        vertical-align: middle;\n",
       "    }\n",
       "\n",
       "    .dataframe tbody tr th {\n",
       "        vertical-align: top;\n",
       "    }\n",
       "\n",
       "    .dataframe thead th {\n",
       "        text-align: right;\n",
       "    }\n",
       "</style>\n",
       "<table border=\"1\" class=\"dataframe\">\n",
       "  <thead>\n",
       "    <tr style=\"text-align: right;\">\n",
       "      <th></th>\n",
       "      <th>customer_id</th>\n",
       "      <th>recency</th>\n",
       "      <th>frequency</th>\n",
       "      <th>monetary</th>\n",
       "      <th>recency_score</th>\n",
       "      <th>frequency_score</th>\n",
       "      <th>monetary_score</th>\n",
       "    </tr>\n",
       "  </thead>\n",
       "  <tbody>\n",
       "    <tr>\n",
       "      <th>0</th>\n",
       "      <td>cc294636-19f0-11eb-8d74-000d3a38a36f</td>\n",
       "      <td>95</td>\n",
       "      <td>5</td>\n",
       "      <td>939</td>\n",
       "      <td>3</td>\n",
       "      <td>4</td>\n",
       "      <td>4</td>\n",
       "    </tr>\n",
       "    <tr>\n",
       "      <th>1</th>\n",
       "      <td>f431bd5a-ab7b-11e9-a2fc-000d3a38a36f</td>\n",
       "      <td>105</td>\n",
       "      <td>21</td>\n",
       "      <td>2014</td>\n",
       "      <td>3</td>\n",
       "      <td>5</td>\n",
       "      <td>5</td>\n",
       "    </tr>\n",
       "    <tr>\n",
       "      <th>2</th>\n",
       "      <td>69b69676-1a40-11ea-941b-000d3a38a36f</td>\n",
       "      <td>186</td>\n",
       "      <td>5</td>\n",
       "      <td>585</td>\n",
       "      <td>2</td>\n",
       "      <td>4</td>\n",
       "      <td>3</td>\n",
       "    </tr>\n",
       "    <tr>\n",
       "      <th>3</th>\n",
       "      <td>1854e56c-491f-11eb-806e-000d3a38a36f</td>\n",
       "      <td>135</td>\n",
       "      <td>2</td>\n",
       "      <td>122</td>\n",
       "      <td>3</td>\n",
       "      <td>1</td>\n",
       "      <td>1</td>\n",
       "    </tr>\n",
       "    <tr>\n",
       "      <th>4</th>\n",
       "      <td>d6ea1074-f1f5-11e9-9346-000d3a38a36f</td>\n",
       "      <td>86</td>\n",
       "      <td>2</td>\n",
       "      <td>210</td>\n",
       "      <td>3</td>\n",
       "      <td>1</td>\n",
       "      <td>1</td>\n",
       "    </tr>\n",
       "  </tbody>\n",
       "</table>\n",
       "</div>"
      ],
      "text/plain": [
       "                            customer_id  recency  frequency  monetary recency_score frequency_score monetary_score\n",
       "0  cc294636-19f0-11eb-8d74-000d3a38a36f       95          5       939             3               4              4\n",
       "1  f431bd5a-ab7b-11e9-a2fc-000d3a38a36f      105         21      2014             3               5              5\n",
       "2  69b69676-1a40-11ea-941b-000d3a38a36f      186          5       585             2               4              3\n",
       "3  1854e56c-491f-11eb-806e-000d3a38a36f      135          2       122             3               1              1\n",
       "4  d6ea1074-f1f5-11e9-9346-000d3a38a36f       86          2       210             3               1              1"
      ]
     },
     "execution_count": 18,
     "metadata": {},
     "output_type": "execute_result"
    }
   ],
   "source": [
    "\"\"\"\n",
    "Recency, Frequency and Monetary \n",
    "metrics were converted to scores between 1-5 with the help of qcut.\n",
    "\"\"\"\n",
    "rfm[\"recency_score\"] = pd.qcut(rfm[\"recency\"], 5, labels = [5,4,3,2,1])\n",
    "rfm[\"frequency_score\"] = pd.qcut(rfm[\"frequency\"].rank(method=\"first\"), 5, labels = [1,2,3,4,5])\n",
    "rfm[\"monetary_score\"] = pd.qcut(rfm[\"monetary\"], 5, labels = [1,2,3,4,5])\n",
    "rfm.head()"
   ]
  },
  {
   "cell_type": "code",
   "execution_count": 19,
   "id": "f33ad894",
   "metadata": {
    "execution": {
     "iopub.execute_input": "2022-11-01T14:13:58.017952Z",
     "iopub.status.busy": "2022-11-01T14:13:58.017485Z",
     "iopub.status.idle": "2022-11-01T14:13:58.044901Z",
     "shell.execute_reply": "2022-11-01T14:13:58.043626Z"
    },
    "papermill": {
     "duration": 0.044507,
     "end_time": "2022-11-01T14:13:58.048045",
     "exception": false,
     "start_time": "2022-11-01T14:13:58.003538",
     "status": "completed"
    },
    "tags": []
   },
   "outputs": [
    {
     "data": {
      "text/html": [
       "<div>\n",
       "<style scoped>\n",
       "    .dataframe tbody tr th:only-of-type {\n",
       "        vertical-align: middle;\n",
       "    }\n",
       "\n",
       "    .dataframe tbody tr th {\n",
       "        vertical-align: top;\n",
       "    }\n",
       "\n",
       "    .dataframe thead th {\n",
       "        text-align: right;\n",
       "    }\n",
       "</style>\n",
       "<table border=\"1\" class=\"dataframe\">\n",
       "  <thead>\n",
       "    <tr style=\"text-align: right;\">\n",
       "      <th></th>\n",
       "      <th>customer_id</th>\n",
       "      <th>recency</th>\n",
       "      <th>frequency</th>\n",
       "      <th>monetary</th>\n",
       "      <th>recency_score</th>\n",
       "      <th>frequency_score</th>\n",
       "      <th>monetary_score</th>\n",
       "      <th>rf_score</th>\n",
       "    </tr>\n",
       "  </thead>\n",
       "  <tbody>\n",
       "    <tr>\n",
       "      <th>0</th>\n",
       "      <td>cc294636-19f0-11eb-8d74-000d3a38a36f</td>\n",
       "      <td>95</td>\n",
       "      <td>5</td>\n",
       "      <td>939</td>\n",
       "      <td>3</td>\n",
       "      <td>4</td>\n",
       "      <td>4</td>\n",
       "      <td>34</td>\n",
       "    </tr>\n",
       "    <tr>\n",
       "      <th>1</th>\n",
       "      <td>f431bd5a-ab7b-11e9-a2fc-000d3a38a36f</td>\n",
       "      <td>105</td>\n",
       "      <td>21</td>\n",
       "      <td>2014</td>\n",
       "      <td>3</td>\n",
       "      <td>5</td>\n",
       "      <td>5</td>\n",
       "      <td>35</td>\n",
       "    </tr>\n",
       "    <tr>\n",
       "      <th>2</th>\n",
       "      <td>69b69676-1a40-11ea-941b-000d3a38a36f</td>\n",
       "      <td>186</td>\n",
       "      <td>5</td>\n",
       "      <td>585</td>\n",
       "      <td>2</td>\n",
       "      <td>4</td>\n",
       "      <td>3</td>\n",
       "      <td>24</td>\n",
       "    </tr>\n",
       "    <tr>\n",
       "      <th>3</th>\n",
       "      <td>1854e56c-491f-11eb-806e-000d3a38a36f</td>\n",
       "      <td>135</td>\n",
       "      <td>2</td>\n",
       "      <td>122</td>\n",
       "      <td>3</td>\n",
       "      <td>1</td>\n",
       "      <td>1</td>\n",
       "      <td>31</td>\n",
       "    </tr>\n",
       "    <tr>\n",
       "      <th>4</th>\n",
       "      <td>d6ea1074-f1f5-11e9-9346-000d3a38a36f</td>\n",
       "      <td>86</td>\n",
       "      <td>2</td>\n",
       "      <td>210</td>\n",
       "      <td>3</td>\n",
       "      <td>1</td>\n",
       "      <td>1</td>\n",
       "      <td>31</td>\n",
       "    </tr>\n",
       "  </tbody>\n",
       "</table>\n",
       "</div>"
      ],
      "text/plain": [
       "                            customer_id  recency  frequency  monetary recency_score frequency_score monetary_score rf_score\n",
       "0  cc294636-19f0-11eb-8d74-000d3a38a36f       95          5       939             3               4              4       34\n",
       "1  f431bd5a-ab7b-11e9-a2fc-000d3a38a36f      105         21      2014             3               5              5       35\n",
       "2  69b69676-1a40-11ea-941b-000d3a38a36f      186          5       585             2               4              3       24\n",
       "3  1854e56c-491f-11eb-806e-000d3a38a36f      135          2       122             3               1              1       31\n",
       "4  d6ea1074-f1f5-11e9-9346-000d3a38a36f       86          2       210             3               1              1       31"
      ]
     },
     "execution_count": 19,
     "metadata": {},
     "output_type": "execute_result"
    }
   ],
   "source": [
    "#The recency_score and frequency_score were expressed as a single variable and recorded as RF_SCORE.\n",
    "rfm[\"rf_score\"] = rfm[\"recency_score\"].astype(str) + rfm[\"frequency_score\"].astype(str)\n",
    "rfm.head()"
   ]
  },
  {
   "cell_type": "code",
   "execution_count": 20,
   "id": "3990d3b4",
   "metadata": {
    "execution": {
     "iopub.execute_input": "2022-11-01T14:13:58.075677Z",
     "iopub.status.busy": "2022-11-01T14:13:58.075268Z",
     "iopub.status.idle": "2022-11-01T14:13:58.081200Z",
     "shell.execute_reply": "2022-11-01T14:13:58.079902Z"
    },
    "papermill": {
     "duration": 0.022244,
     "end_time": "2022-11-01T14:13:58.083770",
     "exception": false,
     "start_time": "2022-11-01T14:13:58.061526",
     "status": "completed"
    },
    "tags": []
   },
   "outputs": [],
   "source": [
    "seg_map = {\n",
    "    r'[1-2][1-2]': 'hibernating',\n",
    "    r'[1-2][3-4]': 'at_Risk',\n",
    "    r'[1-2]5': 'cant_loose',\n",
    "    r'3[1-2]': 'about_to_sleep',\n",
    "    r'33': 'need_attention',\n",
    "    r'[3-4][4-5]': 'loyal_customers',\n",
    "    r'41': 'promising',\n",
    "    r'51': 'new_customers',\n",
    "    r'[4-5][2-3]': 'potential_loyalists',\n",
    "    r'5[4-5]': 'champions'\n",
    "}"
   ]
  },
  {
   "cell_type": "markdown",
   "id": "3ef11087",
   "metadata": {
    "papermill": {
     "duration": 0.011807,
     "end_time": "2022-11-01T14:13:58.107779",
     "exception": false,
     "start_time": "2022-11-01T14:13:58.095972",
     "status": "completed"
    },
    "tags": []
   },
   "source": [
    "### Visualization of seg_map"
   ]
  },
  {
   "attachments": {
    "40b9094d-f960-4097-b405-22c9d3235032.png": {
     "image/png": "[encoded data removed]"
    }
   },
   "cell_type": "markdown",
   "id": "db94c50c",
   "metadata": {
    "papermill": {
     "duration": 0.012031,
     "end_time": "2022-11-01T14:13:58.132072",
     "exception": false,
     "start_time": "2022-11-01T14:13:58.120041",
     "status": "completed"
    },
    "tags": []
   },
   "source": [
    "![image.png](attachment:40b9094d-f960-4097-b405-22c9d3235032.png)"
   ]
  },
  {
   "cell_type": "code",
   "execution_count": 21,
   "id": "7619e2f2",
   "metadata": {
    "execution": {
     "iopub.execute_input": "2022-11-01T14:13:58.159007Z",
     "iopub.status.busy": "2022-11-01T14:13:58.158514Z",
     "iopub.status.idle": "2022-11-01T14:13:58.500960Z",
     "shell.execute_reply": "2022-11-01T14:13:58.499799Z"
    },
    "papermill": {
     "duration": 0.359307,
     "end_time": "2022-11-01T14:13:58.503721",
     "exception": false,
     "start_time": "2022-11-01T14:13:58.144414",
     "status": "completed"
    },
    "tags": []
   },
   "outputs": [
    {
     "data": {
      "text/html": [
       "<div>\n",
       "<style scoped>\n",
       "    .dataframe tbody tr th:only-of-type {\n",
       "        vertical-align: middle;\n",
       "    }\n",
       "\n",
       "    .dataframe tbody tr th {\n",
       "        vertical-align: top;\n",
       "    }\n",
       "\n",
       "    .dataframe thead th {\n",
       "        text-align: right;\n",
       "    }\n",
       "</style>\n",
       "<table border=\"1\" class=\"dataframe\">\n",
       "  <thead>\n",
       "    <tr style=\"text-align: right;\">\n",
       "      <th></th>\n",
       "      <th>customer_id</th>\n",
       "      <th>recency</th>\n",
       "      <th>frequency</th>\n",
       "      <th>monetary</th>\n",
       "      <th>recency_score</th>\n",
       "      <th>frequency_score</th>\n",
       "      <th>monetary_score</th>\n",
       "      <th>rf_score</th>\n",
       "      <th>segment</th>\n",
       "    </tr>\n",
       "  </thead>\n",
       "  <tbody>\n",
       "    <tr>\n",
       "      <th>0</th>\n",
       "      <td>cc294636-19f0-11eb-8d74-000d3a38a36f</td>\n",
       "      <td>95</td>\n",
       "      <td>5</td>\n",
       "      <td>939</td>\n",
       "      <td>3</td>\n",
       "      <td>4</td>\n",
       "      <td>4</td>\n",
       "      <td>34</td>\n",
       "      <td>loyal_customers</td>\n",
       "    </tr>\n",
       "    <tr>\n",
       "      <th>1</th>\n",
       "      <td>f431bd5a-ab7b-11e9-a2fc-000d3a38a36f</td>\n",
       "      <td>105</td>\n",
       "      <td>21</td>\n",
       "      <td>2014</td>\n",
       "      <td>3</td>\n",
       "      <td>5</td>\n",
       "      <td>5</td>\n",
       "      <td>35</td>\n",
       "      <td>loyal_customers</td>\n",
       "    </tr>\n",
       "    <tr>\n",
       "      <th>2</th>\n",
       "      <td>69b69676-1a40-11ea-941b-000d3a38a36f</td>\n",
       "      <td>186</td>\n",
       "      <td>5</td>\n",
       "      <td>585</td>\n",
       "      <td>2</td>\n",
       "      <td>4</td>\n",
       "      <td>3</td>\n",
       "      <td>24</td>\n",
       "      <td>at_Risk</td>\n",
       "    </tr>\n",
       "    <tr>\n",
       "      <th>3</th>\n",
       "      <td>1854e56c-491f-11eb-806e-000d3a38a36f</td>\n",
       "      <td>135</td>\n",
       "      <td>2</td>\n",
       "      <td>122</td>\n",
       "      <td>3</td>\n",
       "      <td>1</td>\n",
       "      <td>1</td>\n",
       "      <td>31</td>\n",
       "      <td>about_to_sleep</td>\n",
       "    </tr>\n",
       "    <tr>\n",
       "      <th>4</th>\n",
       "      <td>d6ea1074-f1f5-11e9-9346-000d3a38a36f</td>\n",
       "      <td>86</td>\n",
       "      <td>2</td>\n",
       "      <td>210</td>\n",
       "      <td>3</td>\n",
       "      <td>1</td>\n",
       "      <td>1</td>\n",
       "      <td>31</td>\n",
       "      <td>about_to_sleep</td>\n",
       "    </tr>\n",
       "  </tbody>\n",
       "</table>\n",
       "</div>"
      ],
      "text/plain": [
       "                            customer_id  recency  frequency  monetary recency_score frequency_score monetary_score  \\\n",
       "0  cc294636-19f0-11eb-8d74-000d3a38a36f       95          5       939             3               4              4   \n",
       "1  f431bd5a-ab7b-11e9-a2fc-000d3a38a36f      105         21      2014             3               5              5   \n",
       "2  69b69676-1a40-11ea-941b-000d3a38a36f      186          5       585             2               4              3   \n",
       "3  1854e56c-491f-11eb-806e-000d3a38a36f      135          2       122             3               1              1   \n",
       "4  d6ea1074-f1f5-11e9-9346-000d3a38a36f       86          2       210             3               1              1   \n",
       "\n",
       "  rf_score          segment  \n",
       "0       34  loyal_customers  \n",
       "1       35  loyal_customers  \n",
       "2       24          at_Risk  \n",
       "3       31   about_to_sleep  \n",
       "4       31   about_to_sleep  "
      ]
     },
     "execution_count": 21,
     "metadata": {},
     "output_type": "execute_result"
    }
   ],
   "source": [
    "rfm[\"segment\"] = rfm['rf_score'].replace(seg_map, regex=True)\n",
    "rfm.head()"
   ]
  },
  {
   "cell_type": "code",
   "execution_count": 22,
   "id": "93fe85cf",
   "metadata": {
    "execution": {
     "iopub.execute_input": "2022-11-01T14:13:58.530439Z",
     "iopub.status.busy": "2022-11-01T14:13:58.529993Z",
     "iopub.status.idle": "2022-11-01T14:13:58.549216Z",
     "shell.execute_reply": "2022-11-01T14:13:58.547913Z"
    },
    "papermill": {
     "duration": 0.035572,
     "end_time": "2022-11-01T14:13:58.551796",
     "exception": false,
     "start_time": "2022-11-01T14:13:58.516224",
     "status": "completed"
    },
    "tags": []
   },
   "outputs": [
    {
     "data": {
      "text/html": [
       "<div>\n",
       "<style scoped>\n",
       "    .dataframe tbody tr th:only-of-type {\n",
       "        vertical-align: middle;\n",
       "    }\n",
       "\n",
       "    .dataframe tbody tr th {\n",
       "        vertical-align: top;\n",
       "    }\n",
       "\n",
       "    .dataframe thead th {\n",
       "        text-align: right;\n",
       "    }\n",
       "</style>\n",
       "<table border=\"1\" class=\"dataframe\">\n",
       "  <thead>\n",
       "    <tr style=\"text-align: right;\">\n",
       "      <th></th>\n",
       "      <th>recency</th>\n",
       "      <th>frequency</th>\n",
       "      <th>monetary</th>\n",
       "    </tr>\n",
       "    <tr>\n",
       "      <th>segment</th>\n",
       "      <th></th>\n",
       "      <th></th>\n",
       "      <th></th>\n",
       "    </tr>\n",
       "  </thead>\n",
       "  <tbody>\n",
       "    <tr>\n",
       "      <th>about_to_sleep</th>\n",
       "      <td>114</td>\n",
       "      <td>2</td>\n",
       "      <td>359</td>\n",
       "    </tr>\n",
       "    <tr>\n",
       "      <th>at_Risk</th>\n",
       "      <td>242</td>\n",
       "      <td>4</td>\n",
       "      <td>647</td>\n",
       "    </tr>\n",
       "    <tr>\n",
       "      <th>cant_loose</th>\n",
       "      <td>235</td>\n",
       "      <td>11</td>\n",
       "      <td>1474</td>\n",
       "    </tr>\n",
       "    <tr>\n",
       "      <th>champions</th>\n",
       "      <td>17</td>\n",
       "      <td>9</td>\n",
       "      <td>1407</td>\n",
       "    </tr>\n",
       "    <tr>\n",
       "      <th>hibernating</th>\n",
       "      <td>248</td>\n",
       "      <td>2</td>\n",
       "      <td>366</td>\n",
       "    </tr>\n",
       "    <tr>\n",
       "      <th>loyal_customers</th>\n",
       "      <td>83</td>\n",
       "      <td>8</td>\n",
       "      <td>1217</td>\n",
       "    </tr>\n",
       "    <tr>\n",
       "      <th>need_attention</th>\n",
       "      <td>114</td>\n",
       "      <td>4</td>\n",
       "      <td>562</td>\n",
       "    </tr>\n",
       "    <tr>\n",
       "      <th>new_customers</th>\n",
       "      <td>18</td>\n",
       "      <td>2</td>\n",
       "      <td>340</td>\n",
       "    </tr>\n",
       "    <tr>\n",
       "      <th>potential_loyalists</th>\n",
       "      <td>37</td>\n",
       "      <td>3</td>\n",
       "      <td>533</td>\n",
       "    </tr>\n",
       "    <tr>\n",
       "      <th>promising</th>\n",
       "      <td>59</td>\n",
       "      <td>2</td>\n",
       "      <td>336</td>\n",
       "    </tr>\n",
       "  </tbody>\n",
       "</table>\n",
       "</div>"
      ],
      "text/plain": [
       "                     recency  frequency  monetary\n",
       "segment                                          \n",
       "about_to_sleep           114          2       359\n",
       "at_Risk                  242          4       647\n",
       "cant_loose               235         11      1474\n",
       "champions                 17          9      1407\n",
       "hibernating              248          2       366\n",
       "loyal_customers           83          8      1217\n",
       "need_attention           114          4       562\n",
       "new_customers             18          2       340\n",
       "potential_loyalists       37          3       533\n",
       "promising                 59          2       336"
      ]
     },
     "execution_count": 22,
     "metadata": {},
     "output_type": "execute_result"
    }
   ],
   "source": [
    "#The recency, frequency and monetary averages of the segments were examined.\n",
    "rfm.groupby(\"segment\").agg({\"recency\": \"mean\", \"frequency\": \"mean\", \"monetary\": \"mean\"})"
   ]
  },
  {
   "cell_type": "markdown",
   "id": "ef7bdf4e",
   "metadata": {
    "papermill": {
     "duration": 0.012402,
     "end_time": "2022-11-01T14:13:58.576997",
     "exception": false,
     "start_time": "2022-11-01T14:13:58.564595",
     "status": "completed"
    },
    "tags": []
   },
   "source": [
    "# RFM Analysis"
   ]
  },
  {
   "cell_type": "markdown",
   "id": "f0d0aeea",
   "metadata": {
    "papermill": {
     "duration": 0.012229,
     "end_time": "2022-11-01T14:13:58.601788",
     "exception": false,
     "start_time": "2022-11-01T14:13:58.589559",
     "status": "completed"
    },
    "tags": []
   },
   "source": [
    "**For example:** FLO includes a new women's shoe brand. The product prices of the brand it includes are above the general customer preferences. For this reason, it is desired to contact the customers in the profile that will be interested in the promotion of the brand and product sales.\n",
    "\n",
    "Those who shop from their loyal customers (champions, loyal_customers) and women category are the customers to be contacted specifically. The id numbers of these customers were saved in the csv file."
   ]
  },
  {
   "cell_type": "code",
   "execution_count": 23,
   "id": "f52988a9",
   "metadata": {
    "execution": {
     "iopub.execute_input": "2022-11-01T14:13:58.629395Z",
     "iopub.status.busy": "2022-11-01T14:13:58.628967Z",
     "iopub.status.idle": "2022-11-01T14:13:58.668353Z",
     "shell.execute_reply": "2022-11-01T14:13:58.667090Z"
    },
    "papermill": {
     "duration": 0.056631,
     "end_time": "2022-11-01T14:13:58.671547",
     "exception": false,
     "start_time": "2022-11-01T14:13:58.614916",
     "status": "completed"
    },
    "tags": []
   },
   "outputs": [
    {
     "data": {
      "text/plain": [
       "0     cc294636-19f0-11eb-8d74-000d3a38a36f\n",
       "1     f431bd5a-ab7b-11e9-a2fc-000d3a38a36f\n",
       "8     cfbda69e-5b4f-11ea-aca7-000d3a38a36f\n",
       "11    c2e15af2-9eed-11e9-9897-000d3a38a36f\n",
       "33    fb840306-1219-11ea-a001-000d3a38a36f\n",
       "Name: master_id, dtype: object"
      ]
     },
     "execution_count": 23,
     "metadata": {},
     "output_type": "execute_result"
    }
   ],
   "source": [
    "filter1 =(rfm[\"segment\"] ==\"champions\") | (rfm[\"segment\"] ==\"loyal_customers\")\n",
    "filter2 =(df[\"interested_in_categories_12\"].str.contains(\"KADIN\"))\n",
    "target_customers = df[filter1 & filter2][\"master_id\"]\n",
    "target_customers.to_csv(\"yeni_marka_hedef_müşteri_id.csv\", index=False)\n",
    "target_customers.head()"
   ]
  },
  {
   "cell_type": "markdown",
   "id": "3b83b405",
   "metadata": {
    "papermill": {
     "duration": 0.012548,
     "end_time": "2022-11-01T14:13:58.697089",
     "exception": false,
     "start_time": "2022-11-01T14:13:58.684541",
     "status": "completed"
    },
    "tags": []
   },
   "source": [
    "**For example:** Nearly 40% discount is planned for Men's and Children's products. It is aimed to specifically target customers who are good customers in the past, but who have not shopped for a long time, who are interested in the categories related to this discount, who should not be lost, those who are asleep and new customers. The ids of the customers in the appropriate profile are saved in the csv file."
   ]
  },
  {
   "cell_type": "code",
   "execution_count": 24,
   "id": "9976e700",
   "metadata": {
    "execution": {
     "iopub.execute_input": "2022-11-01T14:13:58.724991Z",
     "iopub.status.busy": "2022-11-01T14:13:58.724510Z",
     "iopub.status.idle": "2022-11-01T14:13:58.774497Z",
     "shell.execute_reply": "2022-11-01T14:13:58.773279Z"
    },
    "papermill": {
     "duration": 0.067153,
     "end_time": "2022-11-01T14:13:58.777099",
     "exception": false,
     "start_time": "2022-11-01T14:13:58.709946",
     "status": "completed"
    },
    "tags": []
   },
   "outputs": [
    {
     "data": {
      "text/plain": [
       "7     3f1b4dc8-8a7d-11ea-8ec0-000d3a38a36f\n",
       "10    ae608ece-c9d8-11ea-a31e-000d3a38a36f\n",
       "15    13ed97a4-b167-11e9-89fa-000d3a38a36f\n",
       "19    2730793e-3908-11ea-85d6-000d3a38a36f\n",
       "21    7b289956-d691-11e9-93bc-000d3a38a36f\n",
       "Name: master_id, dtype: object"
      ]
     },
     "execution_count": 24,
     "metadata": {},
     "output_type": "execute_result"
    }
   ],
   "source": [
    "filter3 =(rfm[\"segment\"] ==\"cant_loose\") | (rfm[\"segment\"] ==\"hibernating\")| (rfm[\"segment\"] ==\"new_customers\")\n",
    "filter4 =(df[\"interested_in_categories_12\"].str.contains(\"ERKEK\")|df[\"interested_in_categories_12\"].str.contains(\"COCUK\"))\n",
    "discount_customers = df[filter3 & filter4][\"master_id\"]\n",
    "discount_customers.to_csv(\"yeni_marka_hedef_müşteri_id.csv\", index=False)\n",
    "discount_customers.head()"
   ]
  }
 ],
 "metadata": {
  "kernelspec": {
   "display_name": "Python 3",
   "language": "python",
   "name": "python3"
  },
  "language_info": {
   "codemirror_mode": {
    "name": "ipython",
    "version": 3
   },
   "file_extension": ".py",
   "mimetype": "text/x-python",
   "name": "python",
   "nbconvert_exporter": "python",
   "pygments_lexer": "ipython3",
   "version": "3.7.12"
  },
  "papermill": {
   "default_parameters": {},
   "duration": 12.668223,
   "end_time": "2022-11-01T14:13:59.714548",
   "environment_variables": {},
   "exception": null,
   "input_path": "__notebook__.ipynb",
   "output_path": "__notebook__.ipynb",
   "parameters": {},
   "start_time": "2022-11-01T14:13:47.046325",
   "version": "2.3.4"
  }
 },
 "nbformat": 4,
 "nbformat_minor": 5
}
